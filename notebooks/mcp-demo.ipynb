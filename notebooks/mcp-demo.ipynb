{
 "cells": [
  {
   "cell_type": "markdown",
   "id": "90cb9866",
   "metadata": {},
   "source": [
    "# MCP Server Demo Notebook\n",
    "\n",
    "This notebook demonstrates the capabilities of the Jupyter MCP Server. You can use AI agents to interact with this notebook through the MCP protocol."
   ]
  },
  {
   "cell_type": "code",
   "execution_count": null,
   "id": "43589869",
   "metadata": {},
   "outputs": [],
   "source": [
    "# Example: Basic data analysis that can be executed via MCP\n",
    "import pandas as pd\n",
    "import numpy as np\n",
    "import matplotlib.pyplot as plt\n",
    "\n",
    "# Create sample data\n",
    "data = {\n",
    "    'name': ['Alice', 'Bob', 'Charlie', 'Diana', 'Eve'],\n",
    "    'age': [25, 30, 35, 28, 32],\n",
    "    'score': [85, 92, 78, 88, 95]\n",
    "}\n",
    "\n",
    "df = pd.DataFrame(data)\n",
    "print(\"Sample dataset:\")\n",
    "print(df)"
   ]
  },
  {
   "cell_type": "code",
   "execution_count": null,
   "id": "92e138d6",
   "metadata": {},
   "outputs": [],
   "source": [
    "# Calculate statistics\n",
    "stats = {\n",
    "    'mean_age': df['age'].mean(),\n",
    "    'mean_score': df['score'].mean(),\n",
    "    'max_score': df['score'].max(),\n",
    "    'min_score': df['score'].min()\n",
    "}\n",
    "\n",
    "print(\"Statistics:\")\n",
    "for key, value in stats.items():\n",
    "    print(f\"{key}: {value}\")"
   ]
  },
  {
   "cell_type": "code",
   "execution_count": null,
   "id": "085d9234",
   "metadata": {},
   "outputs": [],
   "source": [
    "# Create a simple visualization\n",
    "plt.figure(figsize=(10, 6))\n",
    "\n",
    "plt.subplot(1, 2, 1)\n",
    "plt.bar(df['name'], df['age'])\n",
    "plt.title('Age by Person')\n",
    "plt.ylabel('Age')\n",
    "plt.xticks(rotation=45)\n",
    "\n",
    "plt.subplot(1, 2, 2)\n",
    "plt.bar(df['name'], df['score'])\n",
    "plt.title('Score by Person')\n",
    "plt.ylabel('Score')\n",
    "plt.xticks(rotation=45)\n",
    "\n",
    "plt.tight_layout()\n",
    "plt.show()"
   ]
  },
  {
   "cell_type": "markdown",
   "id": "d6be7031",
   "metadata": {},
   "source": [
    "## MCP Integration Points\n",
    "\n",
    "This notebook can be controlled via the MCP server using tools like:\n",
    "\n",
    "- `insert_execute_code_cell`: Add and run new code cells\n",
    "- `append_markdown_cell`: Add documentation and explanations\n",
    "- `get_notebook_info`: Get information about this notebook\n",
    "- `read_cell`: Read specific cells for analysis\n",
    "\n",
    "AI agents can use these tools to:\n",
    "- Analyze existing data\n",
    "- Add new analysis steps\n",
    "- Create visualizations\n",
    "- Document findings\n",
    "- Iterate on analysis based on results"
   ]
  }
 ],
 "metadata": {
  "language_info": {
   "name": "python"
  }
 },
 "nbformat": 4,
 "nbformat_minor": 5
}
